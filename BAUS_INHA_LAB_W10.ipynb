{
  "nbformat": 4,
  "nbformat_minor": 0,
  "metadata": {
    "colab": {
      "provenance": [],
      "authorship_tag": "ABX9TyP1aHZBSIufPoyOJLwNV7Ty",
      "include_colab_link": true
    },
    "kernelspec": {
      "name": "python3",
      "display_name": "Python 3"
    },
    "language_info": {
      "name": "python"
    }
  },
  "cells": [
    {
      "cell_type": "markdown",
      "metadata": {
        "id": "view-in-github",
        "colab_type": "text"
      },
      "source": [
        "<a href=\"https://colab.research.google.com/github/Fileboss/BAUS_INHA_Database_W10_Assignement-/blob/main/BAUS_INHA_LAB_W10.ipynb\" target=\"_parent\"><img src=\"https://colab.research.google.com/assets/colab-badge.svg\" alt=\"Open In Colab\"/></a>"
      ]
    },
    {
      "cell_type": "markdown",
      "source": [
        "# BAUS INHA DATABASE LAB WEEK 10"
      ],
      "metadata": {
        "id": "yZbxV3mMW9NJ"
      }
    },
    {
      "cell_type": "code",
      "execution_count": 2,
      "metadata": {
        "id": "WzadtLSlW7vz"
      },
      "outputs": [],
      "source": [
        "from sqlalchemy import create_engine\n",
        "my_conn = create_engine(\"sqlite:////content/my_db.db\")"
      ]
    },
    {
      "cell_type": "code",
      "source": [
        "from sqlalchemy.exc import SQLAlchemyError\n",
        "q = \"SELECT * FROM student WHERE mark BETWEEN 65 AND 75\"\n",
        "try:\n",
        "  r_set = my_conn.execute(q)\n",
        "  r_list = r_set.fetchall()\n",
        "  for row in r_list:\n",
        "    print(row)\n",
        "except SQLAlchemyError as e:\n",
        "  error = str(e.__dict__['orig'])  \n",
        "  print(error)\n",
        "else:\n",
        "  print(\"Total Number of rows : \", len(r_list))"
      ],
      "metadata": {
        "colab": {
          "base_uri": "https://localhost:8080/"
        },
        "id": "kaxRAR8GXJBv",
        "outputId": "91d1fe12-125c-4760-bb10-9a4d67f0eb20"
      },
      "execution_count": 3,
      "outputs": [
        {
          "output_type": "stream",
          "name": "stdout",
          "text": [
            "(1, 'John Deo', 'Four', 75, 'female')\n",
            "(18, 'Honny', 'Five', 75, 'male')\n",
            "(20, 'Jackly', 'Nine', 65, 'female')\n",
            "(21, 'Babby John', 'Four', 69, 'female')\n",
            "(34, 'Gain Toe', 'Seven', 69, 'male')\n",
            "Total Number of rows :  5\n"
          ]
        }
      ]
    },
    {
      "cell_type": "code",
      "source": [
        "from sqlalchemy.exc import SQLAlchemyError\n",
        "my_tuple = (65, 75)\n",
        "q = \"SELECT * FROM student WHERE mark BETWEEN ? AND ?\"\n",
        "try:\n",
        "  r_set = my_conn.execute(q, my_tuple)\n",
        "  r_list = r_set.fetchall()\n",
        "  for row in r_list:\n",
        "    print(row)\n",
        "except SQLAlchemyError as e:\n",
        "  error = str(e.__dict__['orig'])\n",
        "  print(error)\n",
        "else:\n",
        "  print(\"Total Number of rows : \", len(r_list))"
      ],
      "metadata": {
        "colab": {
          "base_uri": "https://localhost:8080/"
        },
        "id": "C5eh_-V7Xwl6",
        "outputId": "ac0b9419-26ec-4c1d-df0a-90bb80d1b93d"
      },
      "execution_count": 4,
      "outputs": [
        {
          "output_type": "stream",
          "name": "stdout",
          "text": [
            "(1, 'John Deo', 'Four', 75, 'female')\n",
            "(18, 'Honny', 'Five', 75, 'male')\n",
            "(20, 'Jackly', 'Nine', 65, 'female')\n",
            "(21, 'Babby John', 'Four', 69, 'female')\n",
            "(34, 'Gain Toe', 'Seven', 69, 'male')\n",
            "Total Number of rows :  5\n"
          ]
        }
      ]
    },
    {
      "cell_type": "code",
      "source": [
        "from sqlalchemy.exc import SQLAlchemyError\n",
        "my_tuple = (25, 90)\n",
        "q = \"SELECT * FROM student WHERE mark NOT BETWEEN ? AND ?\"\n",
        "try:\n",
        "  r_set = my_conn.execute(q, my_tuple)\n",
        "  r_list = r_set.fetchall()\n",
        "  for row in r_list:\n",
        "    print(row)\n",
        "except SQLAlchemyError as e:\n",
        "  error = str(e.__dict__['orig'])\n",
        "  print(error)\n",
        "else:\n",
        "  print(\"Total Number of rows : \", len(r_list))"
      ],
      "metadata": {
        "colab": {
          "base_uri": "https://localhost:8080/"
        },
        "id": "fXpxmApPXzLB",
        "outputId": "1a7722c8-524a-452c-9b90-0036afc37e45"
      },
      "execution_count": 5,
      "outputs": [
        {
          "output_type": "stream",
          "name": "stdout",
          "text": [
            "(12, 'Recky', 'Six', 94, 'female')\n",
            "(19, 'Tinny', 'Nine', 18, 'male')\n",
            "(33, 'Kenn Rein', 'Six', 96, 'female')\n",
            "Total Number of rows :  3\n"
          ]
        }
      ]
    },
    {
      "cell_type": "code",
      "source": [
        "from sqlalchemy.exc import SQLAlchemyError\n",
        "q = \"SELECT * FROM student ORDER BY class, mark DESC\"\n",
        "try:\n",
        "  r_set = my_conn.execute(q)\n",
        "  r_list = r_set.fetchall()\n",
        "  for row in r_list:\n",
        "    print(row)\n",
        "except SQLAlchemyError as e:\n",
        "  error = str(e.__dict__['orig'])\n",
        "  print(error)\n",
        "else:\n",
        "  print(\"Total Number of rows : \", len(r_list))"
      ],
      "metadata": {
        "colab": {
          "base_uri": "https://localhost:8080/"
        },
        "id": "Kpf-M02VX1qz",
        "outputId": "47510503-4097-458c-9911-4aab28498afd"
      },
      "execution_count": 6,
      "outputs": [
        {
          "output_type": "stream",
          "name": "stdout",
          "text": [
            "(23, 'Herod', 'Eight', 79, 'male')\n",
            "(8, 'Asruid', 'Five', 85, 'male')\n",
            "(7, 'My John Rob', 'Five', 78, 'male')\n",
            "(18, 'Honny', 'Five', 75, 'male')\n",
            "(15, 'Tade Row', 'Four', 88, 'male')\n",
            "(16, 'Gimmy', 'Four', 88, 'male')\n",
            "(31, 'Marry Toeey', 'Four', 88, 'male')\n",
            "(1, 'John Deo', 'Four', 75, 'female')\n",
            "(21, 'Babby John', 'Four', 69, 'female')\n",
            "(4, 'Krish Star', 'Four', 60, 'female')\n",
            "(5, 'John Mike', 'Four', 60, 'female')\n",
            "(6, 'Alex John', 'Four', 55, 'male')\n",
            "(10, 'Big John', 'Four', 55, 'female')\n",
            "(20, 'Jackly', 'Nine', 65, 'female')\n",
            "(19, 'Tinny', 'Nine', 18, 'male')\n",
            "(32, 'Binn Rott', 'Seven', 90, 'female')\n",
            "(13, 'Kty', 'Seven', 88, 'female')\n",
            "(14, 'Bigy', 'Seven', 88, 'female')\n",
            "(25, 'Giff Tow', 'Seven', 88, 'male')\n",
            "(28, 'Rojj Base', 'Seven', 86, 'female')\n",
            "(26, 'Crelea', 'Seven', 79, 'male')\n",
            "(24, 'Tiddy Now', 'Seven', 78, 'male')\n",
            "(34, 'Gain Toe', 'Seven', 69, 'male')\n",
            "(22, 'Reggid', 'Seven', 55, 'female')\n",
            "(29, 'Tess Played', 'Seven', 55, 'male')\n",
            "(33, 'Kenn Rein', 'Six', 96, 'female')\n",
            "(12, 'Recky', 'Six', 94, 'female')\n",
            "(11, 'Ronald', 'Six', 89, 'female')\n",
            "(35, 'Rows Noump', 'Six', 88, 'female')\n",
            "(30, 'Reppy Red', 'Six', 79, 'female')\n",
            "(9, 'Tes Qry', 'Six', 78, 'male')\n",
            "(17, 'Tumyu', 'Six', 54, 'male')\n",
            "(2, 'Max Ruin', 'Three', 85, 'male')\n",
            "(27, 'Big Nose', 'Three', 81, 'female')\n",
            "(3, 'Arnold', 'Three', 55, 'male')\n",
            "Total Number of rows :  35\n"
          ]
        }
      ]
    },
    {
      "cell_type": "code",
      "source": [
        "from sqlalchemy.exc import SQLAlchemyError\n",
        "q = \"SELECT * FROM student WHERE class='Five' ORDER BY mark DESC\"\n",
        "try:\n",
        "  r_set = my_conn.execute(q)\n",
        "  r_list = r_set.fetchall()\n",
        "  for row in r_list:\n",
        "    print(row)\n",
        "except SQLAlchemyError as e:\n",
        "  error = str(e.__dict__['orig'])\n",
        "  print(error)\n",
        "else:\n",
        "  print(\"Total Number of rows : \", len(r_list))"
      ],
      "metadata": {
        "colab": {
          "base_uri": "https://localhost:8080/"
        },
        "id": "4eMtxBRRX3pe",
        "outputId": "a4e01928-a12c-4dfc-cc0c-3c4a892491f9"
      },
      "execution_count": 7,
      "outputs": [
        {
          "output_type": "stream",
          "name": "stdout",
          "text": [
            "(8, 'Asruid', 'Five', 85, 'male')\n",
            "(7, 'My John Rob', 'Five', 78, 'male')\n",
            "(18, 'Honny', 'Five', 75, 'male')\n",
            "Total Number of rows :  3\n"
          ]
        }
      ]
    },
    {
      "cell_type": "code",
      "source": [
        "from sqlalchemy.exc import SQLAlchemyError\n",
        "q = \"SELECT * FROM student WHERE class='Five' ORDER BY mark DESC LIMIT 1,1\"\n",
        "try:\n",
        "  r_set = my_conn.execute(q)\n",
        "  r_list = r_set.fetchall()\n",
        "  for row in r_list:\n",
        "    print(row)\n",
        "except SQLAlchemyError as e:\n",
        "  error = str(e.__dict__['orig'])\n",
        "  print(error)\n",
        "else:\n",
        "  print(\"Total Number of rows : \", len(r_list))"
      ],
      "metadata": {
        "colab": {
          "base_uri": "https://localhost:8080/"
        },
        "id": "91HXo3DNX5_T",
        "outputId": "57c7c7cb-2e99-49f1-8670-f6d5038bfb3c"
      },
      "execution_count": 8,
      "outputs": [
        {
          "output_type": "stream",
          "name": "stdout",
          "text": [
            "(7, 'My John Rob', 'Five', 78, 'male')\n",
            "Total Number of rows :  1\n"
          ]
        }
      ]
    },
    {
      "cell_type": "code",
      "source": [
        "import sqlite3\n",
        "from employee import Employee\n",
        "\n",
        "conn = sqlite3.connect(':memory:')\n",
        "\n",
        "c = conn.cursor()\n",
        "\n",
        "c.execute(\"\"\"CREATE TABLE employees (\n",
        "            first text,\n",
        "            last text,\n",
        "            pay integer\n",
        "          )\"\"\")\n",
        "\n",
        "def insert_emp(emp):\n",
        "  with conn:\n",
        "    c.execute(\"INSERT INTO employees VALUES (:first, :last, :pay)\", {'first' : emp.first, 'last' : emp.last, 'pay' : emp.pay})\n",
        "\n",
        "def get_emps_by_name(lastname):\n",
        "  c.execute(\"SELECT * FROM employees WHERE last=:last\", {'last' : lastname})\n",
        "  return c.fetchall()\n",
        "\n",
        "def update_pay(emp, pay):\n",
        "  with conn:\n",
        "    c.execute(\"\"\"UPDATE employees SET pay = :pay\n",
        "                WHERE first = :first AND last = :last\"\"\",\n",
        "              {'first' : emp.first, 'last' : emp.last, 'pay' : pay})\n",
        "def remove_emp(emp):\n",
        "  with conn:\n",
        "    c.execute(\"DELETE from employees WHERE first = :first AND last = :last\",\n",
        "              {'first' : emp.first, 'last' : emp.last})\n",
        "\n",
        "emp_1 = Employee('John', 'Doe', 80000)\n",
        "emp_2 = Employee('Jane', 'Doe', 90000)\n",
        "\n",
        "insert_emp(emp_1)\n",
        "insert_emp(emp_2)\n",
        "\n",
        "emps = get_emps_by_name('Doe')\n",
        "print(emps)\n",
        "\n",
        "update_pay(emp_2, 95000)\n",
        "remove_emp(emp_1)\n",
        "\n",
        "emps = get_emps_by_name('Doe')\n",
        "print(emps)\n",
        "\n",
        "conn.close()"
      ],
      "metadata": {
        "id": "OtL1EgWlX8it"
      },
      "execution_count": null,
      "outputs": []
    },
    {
      "cell_type": "code",
      "source": [],
      "metadata": {
        "id": "OPchTV6bX_hw"
      },
      "execution_count": null,
      "outputs": []
    }
  ]
}